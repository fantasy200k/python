{
 "cells": [
  {
   "cell_type": "code",
   "execution_count": 1,
   "metadata": {},
   "outputs": [
    {
     "name": "stdout",
     "output_type": "stream",
     "text": [
      "Om Vakraduntaaya Namah\n"
     ]
    }
   ],
   "source": [
    "print(\"Om Vakraduntaaya Namah\")"
   ]
  },
  {
   "cell_type": "code",
   "execution_count": 7,
   "metadata": {},
   "outputs": [],
   "source": [
    "import numpy as np\n",
    "import pandas as pd"
   ]
  },
  {
   "cell_type": "code",
   "execution_count": 15,
   "metadata": {
    "scrolled": true
   },
   "outputs": [
    {
     "name": "stdout",
     "output_type": "stream",
     "text": [
      "       name  color  year\n",
      "0     lexus    red  2012\n",
      "1   ferrari  white  2014\n",
      "2  mercedez  black  2015\n"
     ]
    },
    {
     "data": {
      "text/html": [
       "<div>\n",
       "<style scoped>\n",
       "    .dataframe tbody tr th:only-of-type {\n",
       "        vertical-align: middle;\n",
       "    }\n",
       "\n",
       "    .dataframe tbody tr th {\n",
       "        vertical-align: top;\n",
       "    }\n",
       "\n",
       "    .dataframe thead th {\n",
       "        text-align: right;\n",
       "    }\n",
       "</style>\n",
       "<table border=\"1\" class=\"dataframe\">\n",
       "  <thead>\n",
       "    <tr style=\"text-align: right;\">\n",
       "      <th></th>\n",
       "      <th>color</th>\n",
       "      <th>name</th>\n",
       "      <th>year</th>\n",
       "    </tr>\n",
       "  </thead>\n",
       "  <tbody>\n",
       "    <tr>\n",
       "      <th>0</th>\n",
       "      <td>red</td>\n",
       "      <td>lexus</td>\n",
       "      <td>2012</td>\n",
       "    </tr>\n",
       "    <tr>\n",
       "      <th>1</th>\n",
       "      <td>white</td>\n",
       "      <td>ferrari</td>\n",
       "      <td>2014</td>\n",
       "    </tr>\n",
       "    <tr>\n",
       "      <th>2</th>\n",
       "      <td>black</td>\n",
       "      <td>mercedez</td>\n",
       "      <td>2015</td>\n",
       "    </tr>\n",
       "  </tbody>\n",
       "</table>\n",
       "</div>"
      ],
      "text/plain": [
       "   color      name  year\n",
       "0    red     lexus  2012\n",
       "1  white   ferrari  2014\n",
       "2  black  mercedez  2015"
      ]
     },
     "execution_count": 15,
     "metadata": {},
     "output_type": "execute_result"
    }
   ],
   "source": [
    "df1_cars = pd.DataFrame({'name': ['lexus','ferrari','mercedez'],\n",
    "        'color':['red','white','black'],\n",
    "        'year':['2012','2014','2015'] },index = [0,1,2])\n",
    " # \n",
    "print (df1_cars)     \n",
    "type(df1_cars)\n",
    "df1_cars[['color','name','year']]"
   ]
  },
  {
   "cell_type": "code",
   "execution_count": 10,
   "metadata": {},
   "outputs": [
    {
     "name": "stdout",
     "output_type": "stream",
     "text": [
      "       name  color  year\n",
      "0     lexus    red  2013\n",
      "1       bmw  white  2015\n",
      "3  mercedez   blue  2016\n"
     ]
    },
    {
     "data": {
      "text/plain": [
       "pandas.core.frame.DataFrame"
      ]
     },
     "execution_count": 10,
     "metadata": {},
     "output_type": "execute_result"
    }
   ],
   "source": [
    "df2_cars = pd.DataFrame({'name': ['lexus','bmw','mercedez'],\n",
    "        'color':['red','white','blue'],\n",
    "        'year':['2013','2015','2016'] } ,index = [0,1,3] )\n",
    "\n",
    "print (df2_cars)     \n",
    "type(df2_cars)"
   ]
  },
  {
   "cell_type": "code",
   "execution_count": 12,
   "metadata": {},
   "outputs": [],
   "source": [
    "# combine the data frames row wise\n",
    "concat_df = pd.concat([df1_cars,df2_cars],axis=0)"
   ]
  },
  {
   "cell_type": "code",
   "execution_count": 13,
   "metadata": {},
   "outputs": [
    {
     "data": {
      "text/html": [
       "<div>\n",
       "<style scoped>\n",
       "    .dataframe tbody tr th:only-of-type {\n",
       "        vertical-align: middle;\n",
       "    }\n",
       "\n",
       "    .dataframe tbody tr th {\n",
       "        vertical-align: top;\n",
       "    }\n",
       "\n",
       "    .dataframe thead th {\n",
       "        text-align: right;\n",
       "    }\n",
       "</style>\n",
       "<table border=\"1\" class=\"dataframe\">\n",
       "  <thead>\n",
       "    <tr style=\"text-align: right;\">\n",
       "      <th></th>\n",
       "      <th>name</th>\n",
       "      <th>color</th>\n",
       "      <th>year</th>\n",
       "    </tr>\n",
       "  </thead>\n",
       "  <tbody>\n",
       "    <tr>\n",
       "      <th>0</th>\n",
       "      <td>lexus</td>\n",
       "      <td>red</td>\n",
       "      <td>2012</td>\n",
       "    </tr>\n",
       "    <tr>\n",
       "      <th>1</th>\n",
       "      <td>ferrari</td>\n",
       "      <td>white</td>\n",
       "      <td>2014</td>\n",
       "    </tr>\n",
       "    <tr>\n",
       "      <th>2</th>\n",
       "      <td>mercedez</td>\n",
       "      <td>black</td>\n",
       "      <td>2015</td>\n",
       "    </tr>\n",
       "    <tr>\n",
       "      <th>0</th>\n",
       "      <td>lexus</td>\n",
       "      <td>red</td>\n",
       "      <td>2013</td>\n",
       "    </tr>\n",
       "    <tr>\n",
       "      <th>1</th>\n",
       "      <td>bmw</td>\n",
       "      <td>white</td>\n",
       "      <td>2015</td>\n",
       "    </tr>\n",
       "    <tr>\n",
       "      <th>3</th>\n",
       "      <td>mercedez</td>\n",
       "      <td>blue</td>\n",
       "      <td>2016</td>\n",
       "    </tr>\n",
       "  </tbody>\n",
       "</table>\n",
       "</div>"
      ],
      "text/plain": [
       "       name  color  year\n",
       "0     lexus    red  2012\n",
       "1   ferrari  white  2014\n",
       "2  mercedez  black  2015\n",
       "0     lexus    red  2013\n",
       "1       bmw  white  2015\n",
       "3  mercedez   blue  2016"
      ]
     },
     "execution_count": 13,
     "metadata": {},
     "output_type": "execute_result"
    }
   ],
   "source": [
    "concat_df"
   ]
  },
  {
   "cell_type": "code",
   "execution_count": 16,
   "metadata": {},
   "outputs": [],
   "source": [
    "# combine the data frames row wise\n",
    "col_df = pd.concat([df1_cars,df2_cars],axis=1)"
   ]
  },
  {
   "cell_type": "code",
   "execution_count": 17,
   "metadata": {},
   "outputs": [
    {
     "data": {
      "text/html": [
       "<div>\n",
       "<style scoped>\n",
       "    .dataframe tbody tr th:only-of-type {\n",
       "        vertical-align: middle;\n",
       "    }\n",
       "\n",
       "    .dataframe tbody tr th {\n",
       "        vertical-align: top;\n",
       "    }\n",
       "\n",
       "    .dataframe thead th {\n",
       "        text-align: right;\n",
       "    }\n",
       "</style>\n",
       "<table border=\"1\" class=\"dataframe\">\n",
       "  <thead>\n",
       "    <tr style=\"text-align: right;\">\n",
       "      <th></th>\n",
       "      <th>name</th>\n",
       "      <th>color</th>\n",
       "      <th>year</th>\n",
       "      <th>name</th>\n",
       "      <th>color</th>\n",
       "      <th>year</th>\n",
       "    </tr>\n",
       "  </thead>\n",
       "  <tbody>\n",
       "    <tr>\n",
       "      <th>0</th>\n",
       "      <td>lexus</td>\n",
       "      <td>red</td>\n",
       "      <td>2012</td>\n",
       "      <td>lexus</td>\n",
       "      <td>red</td>\n",
       "      <td>2013</td>\n",
       "    </tr>\n",
       "    <tr>\n",
       "      <th>1</th>\n",
       "      <td>ferrari</td>\n",
       "      <td>white</td>\n",
       "      <td>2014</td>\n",
       "      <td>bmw</td>\n",
       "      <td>white</td>\n",
       "      <td>2015</td>\n",
       "    </tr>\n",
       "    <tr>\n",
       "      <th>2</th>\n",
       "      <td>mercedez</td>\n",
       "      <td>black</td>\n",
       "      <td>2015</td>\n",
       "      <td>NaN</td>\n",
       "      <td>NaN</td>\n",
       "      <td>NaN</td>\n",
       "    </tr>\n",
       "    <tr>\n",
       "      <th>3</th>\n",
       "      <td>NaN</td>\n",
       "      <td>NaN</td>\n",
       "      <td>NaN</td>\n",
       "      <td>mercedez</td>\n",
       "      <td>blue</td>\n",
       "      <td>2016</td>\n",
       "    </tr>\n",
       "  </tbody>\n",
       "</table>\n",
       "</div>"
      ],
      "text/plain": [
       "       name  color  year      name  color  year\n",
       "0     lexus    red  2012     lexus    red  2013\n",
       "1   ferrari  white  2014       bmw  white  2015\n",
       "2  mercedez  black  2015       NaN    NaN   NaN\n",
       "3       NaN    NaN   NaN  mercedez   blue  2016"
      ]
     },
     "execution_count": 17,
     "metadata": {},
     "output_type": "execute_result"
    }
   ],
   "source": [
    "col_df"
   ]
  },
  {
   "cell_type": "code",
   "execution_count": 21,
   "metadata": {},
   "outputs": [
    {
     "data": {
      "text/html": [
       "<div>\n",
       "<style scoped>\n",
       "    .dataframe tbody tr th:only-of-type {\n",
       "        vertical-align: middle;\n",
       "    }\n",
       "\n",
       "    .dataframe tbody tr th {\n",
       "        vertical-align: top;\n",
       "    }\n",
       "\n",
       "    .dataframe thead th {\n",
       "        text-align: right;\n",
       "    }\n",
       "</style>\n",
       "<table border=\"1\" class=\"dataframe\">\n",
       "  <thead>\n",
       "    <tr style=\"text-align: right;\">\n",
       "      <th></th>\n",
       "      <th>name_x</th>\n",
       "      <th>color_x</th>\n",
       "      <th>year_x</th>\n",
       "      <th>name_y</th>\n",
       "      <th>color_y</th>\n",
       "      <th>year_y</th>\n",
       "    </tr>\n",
       "  </thead>\n",
       "  <tbody>\n",
       "    <tr>\n",
       "      <th>0</th>\n",
       "      <td>lexus</td>\n",
       "      <td>red</td>\n",
       "      <td>2012</td>\n",
       "      <td>lexus</td>\n",
       "      <td>red</td>\n",
       "      <td>2013</td>\n",
       "    </tr>\n",
       "    <tr>\n",
       "      <th>1</th>\n",
       "      <td>ferrari</td>\n",
       "      <td>white</td>\n",
       "      <td>2014</td>\n",
       "      <td>bmw</td>\n",
       "      <td>white</td>\n",
       "      <td>2015</td>\n",
       "    </tr>\n",
       "  </tbody>\n",
       "</table>\n",
       "</div>"
      ],
      "text/plain": [
       "    name_x color_x year_x name_y color_y year_y\n",
       "0    lexus     red   2012  lexus     red   2013\n",
       "1  ferrari   white   2014    bmw   white   2015"
      ]
     },
     "execution_count": 21,
     "metadata": {},
     "output_type": "execute_result"
    }
   ],
   "source": [
    "df_m = pd.merge(df1_cars,df2_cars,left_index=True,right_index=True)\n",
    "df_m"
   ]
  },
  {
   "cell_type": "code",
   "execution_count": 23,
   "metadata": {},
   "outputs": [
    {
     "data": {
      "text/html": [
       "<div>\n",
       "<style scoped>\n",
       "    .dataframe tbody tr th:only-of-type {\n",
       "        vertical-align: middle;\n",
       "    }\n",
       "\n",
       "    .dataframe tbody tr th {\n",
       "        vertical-align: top;\n",
       "    }\n",
       "\n",
       "    .dataframe thead th {\n",
       "        text-align: right;\n",
       "    }\n",
       "</style>\n",
       "<table border=\"1\" class=\"dataframe\">\n",
       "  <thead>\n",
       "    <tr style=\"text-align: right;\">\n",
       "      <th></th>\n",
       "      <th>name</th>\n",
       "      <th>color_x</th>\n",
       "      <th>year_x</th>\n",
       "      <th>color_y</th>\n",
       "      <th>year_y</th>\n",
       "    </tr>\n",
       "  </thead>\n",
       "  <tbody>\n",
       "    <tr>\n",
       "      <th>0</th>\n",
       "      <td>lexus</td>\n",
       "      <td>red</td>\n",
       "      <td>2012</td>\n",
       "      <td>red</td>\n",
       "      <td>2013</td>\n",
       "    </tr>\n",
       "    <tr>\n",
       "      <th>1</th>\n",
       "      <td>mercedez</td>\n",
       "      <td>black</td>\n",
       "      <td>2015</td>\n",
       "      <td>blue</td>\n",
       "      <td>2016</td>\n",
       "    </tr>\n",
       "  </tbody>\n",
       "</table>\n",
       "</div>"
      ],
      "text/plain": [
       "       name color_x year_x color_y year_y\n",
       "0     lexus     red   2012     red   2013\n",
       "1  mercedez   black   2015    blue   2016"
      ]
     },
     "execution_count": 23,
     "metadata": {},
     "output_type": "execute_result"
    }
   ],
   "source": [
    "df_m = pd.merge(df1_cars,df2_cars,left_on='name',right_on='name')\n",
    "df_m"
   ]
  },
  {
   "cell_type": "code",
   "execution_count": null,
   "metadata": {},
   "outputs": [],
   "source": []
  },
  {
   "cell_type": "code",
   "execution_count": null,
   "metadata": {},
   "outputs": [],
   "source": []
  },
  {
   "cell_type": "code",
   "execution_count": null,
   "metadata": {},
   "outputs": [],
   "source": []
  },
  {
   "cell_type": "code",
   "execution_count": 24,
   "metadata": {},
   "outputs": [
    {
     "name": "stdout",
     "output_type": "stream",
     "text": [
      "\n",
      "Merged dataframe\n",
      "\n",
      "  SectionId Subjects Semester ClassId Students\n",
      "0       Id1    Maths    First     Id1   Trevor\n",
      "1       Id2  Science   Second     Id2    Chris\n",
      "2       Id4  History    Third     Id4     John\n"
     ]
    }
   ],
   "source": [
    "# if both df's joining column names are same.\n",
    "df_subject = pd.DataFrame({'SectionId': ['Id1', 'Id2', 'Id3', 'Id4'],\n",
    "                                'Subjects': ['Maths', 'Science', 'Computer', 'History'],\n",
    "                                'Semester': ['First','Second','First','Third']\n",
    "                               },index=[0, 1, 2,3])\n",
    "df_students = pd.DataFrame({'ClassId': ['Id4', 'Id1', 'Id6', 'Id2'],\n",
    "                               'Students': ['John', 'Trevor', 'David', 'Chris'],\n",
    "                               },index=[4,5,6,7])\n",
    "merge_frame= pd.merge(df_subject,df_students,how='inner',left_on='SectionId',right_on='ClassId')\n",
    "print(\"\\nMerged dataframe\\n\")\n",
    "print (merge_frame)"
   ]
  },
  {
   "cell_type": "code",
   "execution_count": null,
   "metadata": {},
   "outputs": [],
   "source": []
  },
  {
   "cell_type": "code",
   "execution_count": 28,
   "metadata": {},
   "outputs": [
    {
     "name": "stdout",
     "output_type": "stream",
     "text": [
      "\n",
      "Merged dataframe\n",
      "\n",
      "  SectionId  Subjects Semester ClassId Students\n",
      "0       Id1     Maths    First     Id1   Trevor\n",
      "1       Id2   Science   Second     Id2    Chris\n",
      "2       Id3  Computer    First     NaN      NaN\n",
      "3       Id4   History    Third     Id4     John\n"
     ]
    }
   ],
   "source": [
    "merge_frame= pd.merge(df_subject,df_students,how='left',left_on='SectionId',right_on='ClassId')\n",
    "print(\"\\nMerged dataframe\\n\")\n",
    "print (merge_frame)"
   ]
  },
  {
   "cell_type": "code",
   "execution_count": 29,
   "metadata": {},
   "outputs": [
    {
     "name": "stdout",
     "output_type": "stream",
     "text": [
      "\n",
      "Merged dataframe\n",
      "\n",
      "  SectionId  Subjects Semester ClassId Students\n",
      "0       Id1     Maths    First     Id1   Trevor\n",
      "1       Id2   Science   Second     Id2    Chris\n",
      "2       Id3  Computer    First     NaN      NaN\n",
      "3       Id4   History    Third     Id4     John\n",
      "4       NaN       NaN      NaN     Id6    David\n"
     ]
    }
   ],
   "source": [
    "merge_frame= pd.merge(df_subject,df_students,how='outer',left_on='SectionId',right_on='ClassId')\n",
    "print(\"\\nMerged dataframe\\n\")\n",
    "print (merge_frame)"
   ]
  },
  {
   "cell_type": "code",
   "execution_count": 30,
   "metadata": {},
   "outputs": [
    {
     "name": "stdout",
     "output_type": "stream",
     "text": [
      "\n",
      "Merged dataframe\n",
      "\n",
      "  SectionId  Subjects Semester ClassId Students\n",
      "0       Id1     Maths    First     NaN      NaN\n",
      "1       Id2   Science   Second     NaN      NaN\n",
      "2       Id3  Computer    First     NaN      NaN\n",
      "3       Id4   History    Third     NaN      NaN\n"
     ]
    }
   ],
   "source": [
    "join_frame= df_subject.join(df_students,lsuffix='_left' , rsuffix='_right')\n",
    "print(\"\\nMerged dataframe\\n\")\n",
    "print (join_frame)"
   ]
  },
  {
   "cell_type": "code",
   "execution_count": 31,
   "metadata": {},
   "outputs": [],
   "source": [
    "join_frame= df_subject.set_index('SectionId').join(df_students.set_index('ClassId'), how='outer')"
   ]
  },
  {
   "cell_type": "code",
   "execution_count": 32,
   "metadata": {},
   "outputs": [
    {
     "data": {
      "text/html": [
       "<div>\n",
       "<style scoped>\n",
       "    .dataframe tbody tr th:only-of-type {\n",
       "        vertical-align: middle;\n",
       "    }\n",
       "\n",
       "    .dataframe tbody tr th {\n",
       "        vertical-align: top;\n",
       "    }\n",
       "\n",
       "    .dataframe thead th {\n",
       "        text-align: right;\n",
       "    }\n",
       "</style>\n",
       "<table border=\"1\" class=\"dataframe\">\n",
       "  <thead>\n",
       "    <tr style=\"text-align: right;\">\n",
       "      <th></th>\n",
       "      <th>Subjects</th>\n",
       "      <th>Semester</th>\n",
       "      <th>Students</th>\n",
       "    </tr>\n",
       "  </thead>\n",
       "  <tbody>\n",
       "    <tr>\n",
       "      <th>Id1</th>\n",
       "      <td>Maths</td>\n",
       "      <td>First</td>\n",
       "      <td>Trevor</td>\n",
       "    </tr>\n",
       "    <tr>\n",
       "      <th>Id2</th>\n",
       "      <td>Science</td>\n",
       "      <td>Second</td>\n",
       "      <td>Chris</td>\n",
       "    </tr>\n",
       "    <tr>\n",
       "      <th>Id3</th>\n",
       "      <td>Computer</td>\n",
       "      <td>First</td>\n",
       "      <td>NaN</td>\n",
       "    </tr>\n",
       "    <tr>\n",
       "      <th>Id4</th>\n",
       "      <td>History</td>\n",
       "      <td>Third</td>\n",
       "      <td>John</td>\n",
       "    </tr>\n",
       "    <tr>\n",
       "      <th>Id6</th>\n",
       "      <td>NaN</td>\n",
       "      <td>NaN</td>\n",
       "      <td>David</td>\n",
       "    </tr>\n",
       "  </tbody>\n",
       "</table>\n",
       "</div>"
      ],
      "text/plain": [
       "     Subjects Semester Students\n",
       "Id1     Maths    First   Trevor\n",
       "Id2   Science   Second    Chris\n",
       "Id3  Computer    First      NaN\n",
       "Id4   History    Third     John\n",
       "Id6       NaN      NaN    David"
      ]
     },
     "execution_count": 32,
     "metadata": {},
     "output_type": "execute_result"
    }
   ],
   "source": [
    "join_frame"
   ]
  },
  {
   "cell_type": "code",
   "execution_count": 33,
   "metadata": {},
   "outputs": [],
   "source": [
    "join_frame= df_subject.set_index('SectionId').join(df_students.set_index('ClassId'), how='inner')"
   ]
  },
  {
   "cell_type": "code",
   "execution_count": 34,
   "metadata": {},
   "outputs": [
    {
     "data": {
      "text/html": [
       "<div>\n",
       "<style scoped>\n",
       "    .dataframe tbody tr th:only-of-type {\n",
       "        vertical-align: middle;\n",
       "    }\n",
       "\n",
       "    .dataframe tbody tr th {\n",
       "        vertical-align: top;\n",
       "    }\n",
       "\n",
       "    .dataframe thead th {\n",
       "        text-align: right;\n",
       "    }\n",
       "</style>\n",
       "<table border=\"1\" class=\"dataframe\">\n",
       "  <thead>\n",
       "    <tr style=\"text-align: right;\">\n",
       "      <th></th>\n",
       "      <th>Subjects</th>\n",
       "      <th>Semester</th>\n",
       "      <th>Students</th>\n",
       "    </tr>\n",
       "  </thead>\n",
       "  <tbody>\n",
       "    <tr>\n",
       "      <th>Id1</th>\n",
       "      <td>Maths</td>\n",
       "      <td>First</td>\n",
       "      <td>Trevor</td>\n",
       "    </tr>\n",
       "    <tr>\n",
       "      <th>Id2</th>\n",
       "      <td>Science</td>\n",
       "      <td>Second</td>\n",
       "      <td>Chris</td>\n",
       "    </tr>\n",
       "    <tr>\n",
       "      <th>Id4</th>\n",
       "      <td>History</td>\n",
       "      <td>Third</td>\n",
       "      <td>John</td>\n",
       "    </tr>\n",
       "  </tbody>\n",
       "</table>\n",
       "</div>"
      ],
      "text/plain": [
       "    Subjects Semester Students\n",
       "Id1    Maths    First   Trevor\n",
       "Id2  Science   Second    Chris\n",
       "Id4  History    Third     John"
      ]
     },
     "execution_count": 34,
     "metadata": {},
     "output_type": "execute_result"
    }
   ],
   "source": [
    "join_frame"
   ]
  },
  {
   "cell_type": "code",
   "execution_count": 37,
   "metadata": {},
   "outputs": [
    {
     "data": {
      "text/html": [
       "<div>\n",
       "<style scoped>\n",
       "    .dataframe tbody tr th:only-of-type {\n",
       "        vertical-align: middle;\n",
       "    }\n",
       "\n",
       "    .dataframe tbody tr th {\n",
       "        vertical-align: top;\n",
       "    }\n",
       "\n",
       "    .dataframe thead th {\n",
       "        text-align: right;\n",
       "    }\n",
       "</style>\n",
       "<table border=\"1\" class=\"dataframe\">\n",
       "  <thead>\n",
       "    <tr style=\"text-align: right;\">\n",
       "      <th></th>\n",
       "      <th>namesdf</th>\n",
       "      <th>colorsdf</th>\n",
       "      <th>yearsdf</th>\n",
       "      <th>namerss</th>\n",
       "      <th>colorrss</th>\n",
       "      <th>yearrss</th>\n",
       "    </tr>\n",
       "  </thead>\n",
       "  <tbody>\n",
       "    <tr>\n",
       "      <th>0</th>\n",
       "      <td>lexus</td>\n",
       "      <td>red</td>\n",
       "      <td>2012</td>\n",
       "      <td>lexus</td>\n",
       "      <td>red</td>\n",
       "      <td>2013</td>\n",
       "    </tr>\n",
       "    <tr>\n",
       "      <th>1</th>\n",
       "      <td>ferrari</td>\n",
       "      <td>white</td>\n",
       "      <td>2014</td>\n",
       "      <td>bmw</td>\n",
       "      <td>white</td>\n",
       "      <td>2015</td>\n",
       "    </tr>\n",
       "    <tr>\n",
       "      <th>2</th>\n",
       "      <td>mercedez</td>\n",
       "      <td>black</td>\n",
       "      <td>2015</td>\n",
       "      <td>NaN</td>\n",
       "      <td>NaN</td>\n",
       "      <td>NaN</td>\n",
       "    </tr>\n",
       "  </tbody>\n",
       "</table>\n",
       "</div>"
      ],
      "text/plain": [
       "    namesdf colorsdf yearsdf namerss colorrss yearrss\n",
       "0     lexus      red    2012   lexus      red    2013\n",
       "1   ferrari    white    2014     bmw    white    2015\n",
       "2  mercedez    black    2015     NaN      NaN     NaN"
      ]
     },
     "execution_count": 37,
     "metadata": {},
     "output_type": "execute_result"
    }
   ],
   "source": [
    "df_m = df1_cars.join(df2_cars,lsuffix='sdf',rsuffix='rss')\n",
    "df_m"
   ]
  },
  {
   "cell_type": "code",
   "execution_count": 38,
   "metadata": {},
   "outputs": [
    {
     "data": {
      "text/html": [
       "<div>\n",
       "<style scoped>\n",
       "    .dataframe tbody tr th:only-of-type {\n",
       "        vertical-align: middle;\n",
       "    }\n",
       "\n",
       "    .dataframe tbody tr th {\n",
       "        vertical-align: top;\n",
       "    }\n",
       "\n",
       "    .dataframe thead th {\n",
       "        text-align: right;\n",
       "    }\n",
       "</style>\n",
       "<table border=\"1\" class=\"dataframe\">\n",
       "  <thead>\n",
       "    <tr style=\"text-align: right;\">\n",
       "      <th></th>\n",
       "      <th>name</th>\n",
       "      <th>color</th>\n",
       "      <th>year</th>\n",
       "    </tr>\n",
       "  </thead>\n",
       "  <tbody>\n",
       "    <tr>\n",
       "      <th>0</th>\n",
       "      <td>lexus</td>\n",
       "      <td>red</td>\n",
       "      <td>2012</td>\n",
       "    </tr>\n",
       "    <tr>\n",
       "      <th>1</th>\n",
       "      <td>ferrari</td>\n",
       "      <td>white</td>\n",
       "      <td>2014</td>\n",
       "    </tr>\n",
       "    <tr>\n",
       "      <th>2</th>\n",
       "      <td>mercedez</td>\n",
       "      <td>black</td>\n",
       "      <td>2015</td>\n",
       "    </tr>\n",
       "  </tbody>\n",
       "</table>\n",
       "</div>"
      ],
      "text/plain": [
       "       name  color  year\n",
       "0     lexus    red  2012\n",
       "1   ferrari  white  2014\n",
       "2  mercedez  black  2015"
      ]
     },
     "execution_count": 38,
     "metadata": {},
     "output_type": "execute_result"
    }
   ],
   "source": [
    "df1_cars"
   ]
  },
  {
   "cell_type": "code",
   "execution_count": 39,
   "metadata": {},
   "outputs": [
    {
     "data": {
      "text/html": [
       "<div>\n",
       "<style scoped>\n",
       "    .dataframe tbody tr th:only-of-type {\n",
       "        vertical-align: middle;\n",
       "    }\n",
       "\n",
       "    .dataframe tbody tr th {\n",
       "        vertical-align: top;\n",
       "    }\n",
       "\n",
       "    .dataframe thead th {\n",
       "        text-align: right;\n",
       "    }\n",
       "</style>\n",
       "<table border=\"1\" class=\"dataframe\">\n",
       "  <thead>\n",
       "    <tr style=\"text-align: right;\">\n",
       "      <th></th>\n",
       "      <th>name</th>\n",
       "      <th>color</th>\n",
       "      <th>year</th>\n",
       "    </tr>\n",
       "  </thead>\n",
       "  <tbody>\n",
       "    <tr>\n",
       "      <th>0</th>\n",
       "      <td>lexus</td>\n",
       "      <td>red</td>\n",
       "      <td>2013</td>\n",
       "    </tr>\n",
       "    <tr>\n",
       "      <th>1</th>\n",
       "      <td>bmw</td>\n",
       "      <td>white</td>\n",
       "      <td>2015</td>\n",
       "    </tr>\n",
       "    <tr>\n",
       "      <th>3</th>\n",
       "      <td>mercedez</td>\n",
       "      <td>blue</td>\n",
       "      <td>2016</td>\n",
       "    </tr>\n",
       "  </tbody>\n",
       "</table>\n",
       "</div>"
      ],
      "text/plain": [
       "       name  color  year\n",
       "0     lexus    red  2013\n",
       "1       bmw  white  2015\n",
       "3  mercedez   blue  2016"
      ]
     },
     "execution_count": 39,
     "metadata": {},
     "output_type": "execute_result"
    }
   ],
   "source": [
    "df2_cars"
   ]
  },
  {
   "cell_type": "code",
   "execution_count": null,
   "metadata": {},
   "outputs": [],
   "source": []
  }
 ],
 "metadata": {
  "kernelspec": {
   "display_name": "Python 3",
   "language": "python",
   "name": "python3"
  },
  "language_info": {
   "codemirror_mode": {
    "name": "ipython",
    "version": 3
   },
   "file_extension": ".py",
   "mimetype": "text/x-python",
   "name": "python",
   "nbconvert_exporter": "python",
   "pygments_lexer": "ipython3",
   "version": "3.8.5"
  }
 },
 "nbformat": 4,
 "nbformat_minor": 4
}
