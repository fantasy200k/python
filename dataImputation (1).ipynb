{
 "cells": [
  {
   "cell_type": "code",
   "execution_count": 7,
   "metadata": {},
   "outputs": [],
   "source": [
    "import numpy as np\n",
    "import pandas as pd\n",
    "\n",
    "from scipy.stats import mode"
   ]
  },
  {
   "cell_type": "code",
   "execution_count": 64,
   "metadata": {},
   "outputs": [
    {
     "data": {
      "text/html": [
       "<div>\n",
       "<style scoped>\n",
       "    .dataframe tbody tr th:only-of-type {\n",
       "        vertical-align: middle;\n",
       "    }\n",
       "\n",
       "    .dataframe tbody tr th {\n",
       "        vertical-align: top;\n",
       "    }\n",
       "\n",
       "    .dataframe thead th {\n",
       "        text-align: right;\n",
       "    }\n",
       "</style>\n",
       "<table border=\"1\" class=\"dataframe\">\n",
       "  <thead>\n",
       "    <tr style=\"text-align: right;\">\n",
       "      <th></th>\n",
       "      <th>Product Name</th>\n",
       "      <th>Category</th>\n",
       "      <th>storeManager</th>\n",
       "      <th>quantity</th>\n",
       "      <th>Price</th>\n",
       "      <th>PercentageSold</th>\n",
       "    </tr>\n",
       "  </thead>\n",
       "  <tbody>\n",
       "    <tr>\n",
       "      <th>0</th>\n",
       "      <td>Eldon Base for stackable storage shelf, platinum</td>\n",
       "      <td>Storage &amp; Organization</td>\n",
       "      <td>Muhammed MacIntyre</td>\n",
       "      <td>3.0</td>\n",
       "      <td>35.00</td>\n",
       "      <td>0.80</td>\n",
       "    </tr>\n",
       "    <tr>\n",
       "      <th>1</th>\n",
       "      <td>1.7 Cubic Foot Compact \"Cube\" Office Refrigera...</td>\n",
       "      <td>Appliances</td>\n",
       "      <td>Barry French</td>\n",
       "      <td>293.0</td>\n",
       "      <td>68.02</td>\n",
       "      <td>0.58</td>\n",
       "    </tr>\n",
       "    <tr>\n",
       "      <th>2</th>\n",
       "      <td>Cardinal Slant-D® Ring Binder, Heavy Gauge Vinyl</td>\n",
       "      <td>Binders and Binder Accessories</td>\n",
       "      <td>Barry French</td>\n",
       "      <td>293.0</td>\n",
       "      <td>2.99</td>\n",
       "      <td>0.39</td>\n",
       "    </tr>\n",
       "    <tr>\n",
       "      <th>3</th>\n",
       "      <td>R380</td>\n",
       "      <td>Telephones and Communication</td>\n",
       "      <td>Clay Rozendal</td>\n",
       "      <td>NaN</td>\n",
       "      <td>3.99</td>\n",
       "      <td>NaN</td>\n",
       "    </tr>\n",
       "    <tr>\n",
       "      <th>4</th>\n",
       "      <td>Holmes HEPA Air Purifier</td>\n",
       "      <td>Appliances</td>\n",
       "      <td>Carlos Soltero</td>\n",
       "      <td>515.0</td>\n",
       "      <td>5.94</td>\n",
       "      <td>0.50</td>\n",
       "    </tr>\n",
       "    <tr>\n",
       "      <th>...</th>\n",
       "      <td>...</td>\n",
       "      <td>...</td>\n",
       "      <td>...</td>\n",
       "      <td>...</td>\n",
       "      <td>...</td>\n",
       "      <td>...</td>\n",
       "    </tr>\n",
       "    <tr>\n",
       "      <th>95</th>\n",
       "      <td>Linden® 12\" Wall Clock With Oak Frame</td>\n",
       "      <td>Office Furnishings</td>\n",
       "      <td>Doug Bickford</td>\n",
       "      <td>10535.0</td>\n",
       "      <td>19.99</td>\n",
       "      <td>0.55</td>\n",
       "    </tr>\n",
       "    <tr>\n",
       "      <th>96</th>\n",
       "      <td>Newell 326</td>\n",
       "      <td>Pens &amp; Art Supplies</td>\n",
       "      <td>Doug Bickford</td>\n",
       "      <td>10535.0</td>\n",
       "      <td>0.70</td>\n",
       "      <td>0.56</td>\n",
       "    </tr>\n",
       "    <tr>\n",
       "      <th>97</th>\n",
       "      <td>Prismacolor Color Pencil Set</td>\n",
       "      <td>Pens &amp; Art Supplies</td>\n",
       "      <td>Jamie Kunitz</td>\n",
       "      <td>NaN</td>\n",
       "      <td>4.10</td>\n",
       "      <td>0.44</td>\n",
       "    </tr>\n",
       "    <tr>\n",
       "      <th>98</th>\n",
       "      <td>Xerox Blank Computer Paper</td>\n",
       "      <td>Paper</td>\n",
       "      <td>Anthony Johnson</td>\n",
       "      <td>NaN</td>\n",
       "      <td>5.77</td>\n",
       "      <td>0.38</td>\n",
       "    </tr>\n",
       "    <tr>\n",
       "      <th>99</th>\n",
       "      <td>600 Series Flip</td>\n",
       "      <td>Telephones and Communication</td>\n",
       "      <td>Ralph Knight</td>\n",
       "      <td>10945.0</td>\n",
       "      <td>8.99</td>\n",
       "      <td>0.57</td>\n",
       "    </tr>\n",
       "  </tbody>\n",
       "</table>\n",
       "<p>100 rows × 6 columns</p>\n",
       "</div>"
      ],
      "text/plain": [
       "                                         Product Name  \\\n",
       "0    Eldon Base for stackable storage shelf, platinum   \n",
       "1   1.7 Cubic Foot Compact \"Cube\" Office Refrigera...   \n",
       "2    Cardinal Slant-D® Ring Binder, Heavy Gauge Vinyl   \n",
       "3                                                R380   \n",
       "4                            Holmes HEPA Air Purifier   \n",
       "..                                                ...   \n",
       "95              Linden® 12\" Wall Clock With Oak Frame   \n",
       "96                                         Newell 326   \n",
       "97                       Prismacolor Color Pencil Set   \n",
       "98                         Xerox Blank Computer Paper   \n",
       "99                                    600 Series Flip   \n",
       "\n",
       "                          Category        storeManager  quantity  Price  \\\n",
       "0           Storage & Organization  Muhammed MacIntyre       3.0  35.00   \n",
       "1                       Appliances        Barry French     293.0  68.02   \n",
       "2   Binders and Binder Accessories        Barry French     293.0   2.99   \n",
       "3     Telephones and Communication       Clay Rozendal       NaN   3.99   \n",
       "4                       Appliances      Carlos Soltero     515.0   5.94   \n",
       "..                             ...                 ...       ...    ...   \n",
       "95              Office Furnishings       Doug Bickford   10535.0  19.99   \n",
       "96             Pens & Art Supplies       Doug Bickford   10535.0   0.70   \n",
       "97             Pens & Art Supplies        Jamie Kunitz       NaN   4.10   \n",
       "98                           Paper     Anthony Johnson       NaN   5.77   \n",
       "99    Telephones and Communication        Ralph Knight   10945.0   8.99   \n",
       "\n",
       "    PercentageSold  \n",
       "0             0.80  \n",
       "1             0.58  \n",
       "2             0.39  \n",
       "3              NaN  \n",
       "4             0.50  \n",
       "..             ...  \n",
       "95            0.55  \n",
       "96            0.56  \n",
       "97            0.44  \n",
       "98            0.38  \n",
       "99            0.57  \n",
       "\n",
       "[100 rows x 6 columns]"
      ]
     },
     "execution_count": 64,
     "metadata": {},
     "output_type": "execute_result"
    }
   ],
   "source": [
    "# ingesting the reatil data to a data frame retaill\n",
    "retail = pd.read_csv(\"D:/dat1/retailDM.csv\" , encoding = 'ISO-8859-1')\n",
    "retail"
   ]
  },
  {
   "cell_type": "code",
   "execution_count": 10,
   "metadata": {},
   "outputs": [
    {
     "data": {
      "text/html": [
       "<div>\n",
       "<style scoped>\n",
       "    .dataframe tbody tr th:only-of-type {\n",
       "        vertical-align: middle;\n",
       "    }\n",
       "\n",
       "    .dataframe tbody tr th {\n",
       "        vertical-align: top;\n",
       "    }\n",
       "\n",
       "    .dataframe thead th {\n",
       "        text-align: right;\n",
       "    }\n",
       "</style>\n",
       "<table border=\"1\" class=\"dataframe\">\n",
       "  <thead>\n",
       "    <tr style=\"text-align: right;\">\n",
       "      <th></th>\n",
       "      <th>Product Name</th>\n",
       "      <th>Category</th>\n",
       "      <th>storeManager</th>\n",
       "      <th>quantity</th>\n",
       "      <th>Price</th>\n",
       "      <th>PercentageSold</th>\n",
       "    </tr>\n",
       "  </thead>\n",
       "  <tbody>\n",
       "    <tr>\n",
       "      <th>0</th>\n",
       "      <td>Eldon Base for stackable storage shelf, platinum</td>\n",
       "      <td>Storage &amp; Organization</td>\n",
       "      <td>Muhammed MacIntyre</td>\n",
       "      <td>3.0</td>\n",
       "      <td>35.00</td>\n",
       "      <td>0.80</td>\n",
       "    </tr>\n",
       "    <tr>\n",
       "      <th>1</th>\n",
       "      <td>1.7 Cubic Foot Compact \"Cube\" Office Refrigera...</td>\n",
       "      <td>Appliances</td>\n",
       "      <td>Barry French</td>\n",
       "      <td>293.0</td>\n",
       "      <td>68.02</td>\n",
       "      <td>0.58</td>\n",
       "    </tr>\n",
       "    <tr>\n",
       "      <th>2</th>\n",
       "      <td>Cardinal Slant-D® Ring Binder, Heavy Gauge Vinyl</td>\n",
       "      <td>Binders and Binder Accessories</td>\n",
       "      <td>Barry French</td>\n",
       "      <td>293.0</td>\n",
       "      <td>2.99</td>\n",
       "      <td>0.39</td>\n",
       "    </tr>\n",
       "    <tr>\n",
       "      <th>3</th>\n",
       "      <td>R380</td>\n",
       "      <td>Telephones and Communication</td>\n",
       "      <td>Clay Rozendal</td>\n",
       "      <td>NaN</td>\n",
       "      <td>3.99</td>\n",
       "      <td>NaN</td>\n",
       "    </tr>\n",
       "    <tr>\n",
       "      <th>4</th>\n",
       "      <td>Holmes HEPA Air Purifier</td>\n",
       "      <td>Appliances</td>\n",
       "      <td>Carlos Soltero</td>\n",
       "      <td>515.0</td>\n",
       "      <td>5.94</td>\n",
       "      <td>0.50</td>\n",
       "    </tr>\n",
       "    <tr>\n",
       "      <th>5</th>\n",
       "      <td>G.E. Longer-Life Indoor Recessed Floodlight Bulbs</td>\n",
       "      <td>Office Furnishings</td>\n",
       "      <td>Carlos Soltero</td>\n",
       "      <td>515.0</td>\n",
       "      <td>4.95</td>\n",
       "      <td>0.37</td>\n",
       "    </tr>\n",
       "    <tr>\n",
       "      <th>6</th>\n",
       "      <td>Angle-D Binders with Locking Rings, Label Holders</td>\n",
       "      <td>NaN</td>\n",
       "      <td>Carl Jackson</td>\n",
       "      <td>NaN</td>\n",
       "      <td>NaN</td>\n",
       "      <td>NaN</td>\n",
       "    </tr>\n",
       "    <tr>\n",
       "      <th>7</th>\n",
       "      <td>SAFCO Mobile Desk Side File, Wire Frame</td>\n",
       "      <td>Storage &amp; Organization</td>\n",
       "      <td>Carl Jackson</td>\n",
       "      <td>613.0</td>\n",
       "      <td>6.22</td>\n",
       "      <td>NaN</td>\n",
       "    </tr>\n",
       "    <tr>\n",
       "      <th>8</th>\n",
       "      <td>SAFCO Commercial Wire Shelving, Black</td>\n",
       "      <td>Storage &amp; Organization</td>\n",
       "      <td>Monica Federle</td>\n",
       "      <td>643.0</td>\n",
       "      <td>35.00</td>\n",
       "      <td>NaN</td>\n",
       "    </tr>\n",
       "    <tr>\n",
       "      <th>9</th>\n",
       "      <td>Xerox 198</td>\n",
       "      <td>Paper</td>\n",
       "      <td>Dorothy Badders</td>\n",
       "      <td>NaN</td>\n",
       "      <td>8.33</td>\n",
       "      <td>0.38</td>\n",
       "    </tr>\n",
       "  </tbody>\n",
       "</table>\n",
       "</div>"
      ],
      "text/plain": [
       "                                        Product Name  \\\n",
       "0   Eldon Base for stackable storage shelf, platinum   \n",
       "1  1.7 Cubic Foot Compact \"Cube\" Office Refrigera...   \n",
       "2   Cardinal Slant-D® Ring Binder, Heavy Gauge Vinyl   \n",
       "3                                               R380   \n",
       "4                           Holmes HEPA Air Purifier   \n",
       "5  G.E. Longer-Life Indoor Recessed Floodlight Bulbs   \n",
       "6  Angle-D Binders with Locking Rings, Label Holders   \n",
       "7            SAFCO Mobile Desk Side File, Wire Frame   \n",
       "8              SAFCO Commercial Wire Shelving, Black   \n",
       "9                                          Xerox 198   \n",
       "\n",
       "                         Category        storeManager  quantity  Price  \\\n",
       "0          Storage & Organization  Muhammed MacIntyre       3.0  35.00   \n",
       "1                      Appliances        Barry French     293.0  68.02   \n",
       "2  Binders and Binder Accessories        Barry French     293.0   2.99   \n",
       "3    Telephones and Communication       Clay Rozendal       NaN   3.99   \n",
       "4                      Appliances      Carlos Soltero     515.0   5.94   \n",
       "5              Office Furnishings      Carlos Soltero     515.0   4.95   \n",
       "6                             NaN        Carl Jackson       NaN    NaN   \n",
       "7          Storage & Organization        Carl Jackson     613.0   6.22   \n",
       "8          Storage & Organization      Monica Federle     643.0  35.00   \n",
       "9                           Paper     Dorothy Badders       NaN   8.33   \n",
       "\n",
       "   PercentageSold  \n",
       "0            0.80  \n",
       "1            0.58  \n",
       "2            0.39  \n",
       "3             NaN  \n",
       "4            0.50  \n",
       "5            0.37  \n",
       "6             NaN  \n",
       "7             NaN  \n",
       "8             NaN  \n",
       "9            0.38  "
      ]
     },
     "execution_count": 10,
     "metadata": {},
     "output_type": "execute_result"
    }
   ],
   "source": [
    "retail.head(10)"
   ]
  },
  {
   "cell_type": "code",
   "execution_count": 11,
   "metadata": {},
   "outputs": [
    {
     "data": {
      "text/plain": [
       "Product Name       3\n",
       "Category           9\n",
       "storeManager       2\n",
       "quantity          27\n",
       "Price              8\n",
       "PercentageSold    15\n",
       "dtype: int64"
      ]
     },
     "execution_count": 11,
     "metadata": {},
     "output_type": "execute_result"
    }
   ],
   "source": [
    "retail.isnull().sum()"
   ]
  },
  {
   "cell_type": "code",
   "execution_count": 12,
   "metadata": {},
   "outputs": [
    {
     "data": {
      "text/plain": [
       "Product Name       object\n",
       "Category           object\n",
       "storeManager       object\n",
       "quantity          float64\n",
       "Price             float64\n",
       "PercentageSold    float64\n",
       "dtype: object"
      ]
     },
     "execution_count": 12,
     "metadata": {},
     "output_type": "execute_result"
    }
   ],
   "source": [
    "retail.dtypes"
   ]
  },
  {
   "cell_type": "code",
   "execution_count": 13,
   "metadata": {},
   "outputs": [
    {
     "data": {
      "text/plain": [
       "8"
      ]
     },
     "execution_count": 13,
     "metadata": {},
     "output_type": "execute_result"
    }
   ],
   "source": [
    "retail.Price.isnull().sum()"
   ]
  },
  {
   "cell_type": "code",
   "execution_count": 14,
   "metadata": {},
   "outputs": [
    {
     "data": {
      "text/html": [
       "<div>\n",
       "<style scoped>\n",
       "    .dataframe tbody tr th:only-of-type {\n",
       "        vertical-align: middle;\n",
       "    }\n",
       "\n",
       "    .dataframe tbody tr th {\n",
       "        vertical-align: top;\n",
       "    }\n",
       "\n",
       "    .dataframe thead th {\n",
       "        text-align: right;\n",
       "    }\n",
       "</style>\n",
       "<table border=\"1\" class=\"dataframe\">\n",
       "  <thead>\n",
       "    <tr style=\"text-align: right;\">\n",
       "      <th></th>\n",
       "      <th>Category</th>\n",
       "      <th>Product Name</th>\n",
       "      <th>Price</th>\n",
       "    </tr>\n",
       "  </thead>\n",
       "  <tbody>\n",
       "    <tr>\n",
       "      <th>6</th>\n",
       "      <td>NaN</td>\n",
       "      <td>Angle-D Binders with Locking Rings, Label Holders</td>\n",
       "      <td>NaN</td>\n",
       "    </tr>\n",
       "    <tr>\n",
       "      <th>12</th>\n",
       "      <td>Appliances</td>\n",
       "      <td>Holmes HEPA Air Purifier</td>\n",
       "      <td>NaN</td>\n",
       "    </tr>\n",
       "    <tr>\n",
       "      <th>19</th>\n",
       "      <td>NaN</td>\n",
       "      <td>NaN</td>\n",
       "      <td>NaN</td>\n",
       "    </tr>\n",
       "    <tr>\n",
       "      <th>55</th>\n",
       "      <td>NaN</td>\n",
       "      <td>NaN</td>\n",
       "      <td>NaN</td>\n",
       "    </tr>\n",
       "    <tr>\n",
       "      <th>59</th>\n",
       "      <td>Paper</td>\n",
       "      <td>Personal Creations Ink Jet Cards and Labels</td>\n",
       "      <td>NaN</td>\n",
       "    </tr>\n",
       "    <tr>\n",
       "      <th>64</th>\n",
       "      <td>Paper</td>\n",
       "      <td>Hammermill CopyPlus Copy Paper (20Lb. and 84 B...</td>\n",
       "      <td>NaN</td>\n",
       "    </tr>\n",
       "    <tr>\n",
       "      <th>70</th>\n",
       "      <td>Office Furnishings</td>\n",
       "      <td>12-1/2 Diameter Round Wall Clock</td>\n",
       "      <td>NaN</td>\n",
       "    </tr>\n",
       "    <tr>\n",
       "      <th>79</th>\n",
       "      <td>Paper</td>\n",
       "      <td>Xerox 1904</td>\n",
       "      <td>NaN</td>\n",
       "    </tr>\n",
       "  </tbody>\n",
       "</table>\n",
       "</div>"
      ],
      "text/plain": [
       "              Category                                       Product Name  \\\n",
       "6                  NaN  Angle-D Binders with Locking Rings, Label Holders   \n",
       "12          Appliances                           Holmes HEPA Air Purifier   \n",
       "19                 NaN                                                NaN   \n",
       "55                 NaN                                                NaN   \n",
       "59               Paper       Personal Creations Ink Jet Cards and Labels   \n",
       "64               Paper  Hammermill CopyPlus Copy Paper (20Lb. and 84 B...   \n",
       "70  Office Furnishings                   12-1/2 Diameter Round Wall Clock   \n",
       "79               Paper                                         Xerox 1904   \n",
       "\n",
       "    Price  \n",
       "6     NaN  \n",
       "12    NaN  \n",
       "19    NaN  \n",
       "55    NaN  \n",
       "59    NaN  \n",
       "64    NaN  \n",
       "70    NaN  \n",
       "79    NaN  "
      ]
     },
     "execution_count": 14,
     "metadata": {},
     "output_type": "execute_result"
    }
   ],
   "source": [
    "retail.loc[retail.Price.isnull()] [['Category','Product Name','Price']]"
   ]
  },
  {
   "cell_type": "code",
   "execution_count": 15,
   "metadata": {
    "scrolled": true
   },
   "outputs": [
    {
     "data": {
      "text/plain": [
       "(98, 6)"
      ]
     },
     "execution_count": 15,
     "metadata": {},
     "output_type": "execute_result"
    }
   ],
   "source": [
    "retail.dropna(how=\"all\").shape"
   ]
  },
  {
   "cell_type": "code",
   "execution_count": 16,
   "metadata": {},
   "outputs": [
    {
     "data": {
      "text/plain": [
       "(100, 6)"
      ]
     },
     "execution_count": 16,
     "metadata": {},
     "output_type": "execute_result"
    }
   ],
   "source": [
    "retail.shape"
   ]
  },
  {
   "cell_type": "code",
   "execution_count": 17,
   "metadata": {},
   "outputs": [
    {
     "data": {
      "text/plain": [
       "(57, 6)"
      ]
     },
     "execution_count": 17,
     "metadata": {},
     "output_type": "execute_result"
    }
   ],
   "source": [
    "retail.dropna(how=\"any\").shape"
   ]
  },
  {
   "cell_type": "code",
   "execution_count": 21,
   "metadata": {},
   "outputs": [
    {
     "data": {
      "text/html": [
       "<div>\n",
       "<style scoped>\n",
       "    .dataframe tbody tr th:only-of-type {\n",
       "        vertical-align: middle;\n",
       "    }\n",
       "\n",
       "    .dataframe tbody tr th {\n",
       "        vertical-align: top;\n",
       "    }\n",
       "\n",
       "    .dataframe thead th {\n",
       "        text-align: right;\n",
       "    }\n",
       "</style>\n",
       "<table border=\"1\" class=\"dataframe\">\n",
       "  <thead>\n",
       "    <tr style=\"text-align: right;\">\n",
       "      <th></th>\n",
       "      <th>Category</th>\n",
       "      <th>Product Name</th>\n",
       "      <th>quantity</th>\n",
       "      <th>Price</th>\n",
       "    </tr>\n",
       "  </thead>\n",
       "  <tbody>\n",
       "    <tr>\n",
       "      <th>6</th>\n",
       "      <td>NaN</td>\n",
       "      <td>Angle-D Binders with Locking Rings, Label Holders</td>\n",
       "      <td>NaN</td>\n",
       "      <td>NaN</td>\n",
       "    </tr>\n",
       "    <tr>\n",
       "      <th>12</th>\n",
       "      <td>Appliances</td>\n",
       "      <td>Holmes HEPA Air Purifier</td>\n",
       "      <td>868.0</td>\n",
       "      <td>NaN</td>\n",
       "    </tr>\n",
       "    <tr>\n",
       "      <th>19</th>\n",
       "      <td>NaN</td>\n",
       "      <td>NaN</td>\n",
       "      <td>NaN</td>\n",
       "      <td>NaN</td>\n",
       "    </tr>\n",
       "    <tr>\n",
       "      <th>55</th>\n",
       "      <td>NaN</td>\n",
       "      <td>NaN</td>\n",
       "      <td>NaN</td>\n",
       "      <td>NaN</td>\n",
       "    </tr>\n",
       "    <tr>\n",
       "      <th>59</th>\n",
       "      <td>Paper</td>\n",
       "      <td>Personal Creations Ink Jet Cards and Labels</td>\n",
       "      <td>6016.0</td>\n",
       "      <td>NaN</td>\n",
       "    </tr>\n",
       "    <tr>\n",
       "      <th>64</th>\n",
       "      <td>Paper</td>\n",
       "      <td>Hammermill CopyPlus Copy Paper (20Lb. and 84 B...</td>\n",
       "      <td>NaN</td>\n",
       "      <td>NaN</td>\n",
       "    </tr>\n",
       "    <tr>\n",
       "      <th>70</th>\n",
       "      <td>Office Furnishings</td>\n",
       "      <td>12-1/2 Diameter Round Wall Clock</td>\n",
       "      <td>6982.0</td>\n",
       "      <td>NaN</td>\n",
       "    </tr>\n",
       "    <tr>\n",
       "      <th>79</th>\n",
       "      <td>Paper</td>\n",
       "      <td>Xerox 1904</td>\n",
       "      <td>8995.0</td>\n",
       "      <td>NaN</td>\n",
       "    </tr>\n",
       "  </tbody>\n",
       "</table>\n",
       "</div>"
      ],
      "text/plain": [
       "              Category                                       Product Name  \\\n",
       "6                  NaN  Angle-D Binders with Locking Rings, Label Holders   \n",
       "12          Appliances                           Holmes HEPA Air Purifier   \n",
       "19                 NaN                                                NaN   \n",
       "55                 NaN                                                NaN   \n",
       "59               Paper       Personal Creations Ink Jet Cards and Labels   \n",
       "64               Paper  Hammermill CopyPlus Copy Paper (20Lb. and 84 B...   \n",
       "70  Office Furnishings                   12-1/2 Diameter Round Wall Clock   \n",
       "79               Paper                                         Xerox 1904   \n",
       "\n",
       "    quantity  Price  \n",
       "6        NaN    NaN  \n",
       "12     868.0    NaN  \n",
       "19       NaN    NaN  \n",
       "55       NaN    NaN  \n",
       "59    6016.0    NaN  \n",
       "64       NaN    NaN  \n",
       "70    6982.0    NaN  \n",
       "79    8995.0    NaN  "
      ]
     },
     "execution_count": 21,
     "metadata": {},
     "output_type": "execute_result"
    }
   ],
   "source": [
    "retail.loc[retail.Price.isnull()] [['Category','Product Name','quantity','Price']]"
   ]
  },
  {
   "cell_type": "code",
   "execution_count": 22,
   "metadata": {},
   "outputs": [
    {
     "data": {
      "text/plain": [
       "(69, 6)"
      ]
     },
     "execution_count": 22,
     "metadata": {},
     "output_type": "execute_result"
    }
   ],
   "source": [
    "retail.dropna(subset=['quantity','Price'],how=\"any\").shape"
   ]
  },
  {
   "cell_type": "code",
   "execution_count": 23,
   "metadata": {},
   "outputs": [
    {
     "data": {
      "text/plain": [
       "(57, 6)"
      ]
     },
     "execution_count": 23,
     "metadata": {},
     "output_type": "execute_result"
    }
   ],
   "source": [
    "retail.dropna(how=\"any\").shape"
   ]
  },
  {
   "cell_type": "code",
   "execution_count": 24,
   "metadata": {},
   "outputs": [
    {
     "data": {
      "text/plain": [
       "0         3.000000\n",
       "1       293.000000\n",
       "2       293.000000\n",
       "3      5126.013699\n",
       "4       515.000000\n",
       "          ...     \n",
       "95    10535.000000\n",
       "96    10535.000000\n",
       "97     5126.013699\n",
       "98     5126.013699\n",
       "99    10945.000000\n",
       "Name: quantity, Length: 100, dtype: float64"
      ]
     },
     "execution_count": 24,
     "metadata": {},
     "output_type": "execute_result"
    }
   ],
   "source": [
    "retail.quantity.fillna(np.mean(retail.quantity))"
   ]
  },
  {
   "cell_type": "code",
   "execution_count": 25,
   "metadata": {},
   "outputs": [
    {
     "data": {
      "text/plain": [
       "27"
      ]
     },
     "execution_count": 25,
     "metadata": {},
     "output_type": "execute_result"
    }
   ],
   "source": [
    "retail.quantity.isnull().sum()"
   ]
  },
  {
   "cell_type": "code",
   "execution_count": 26,
   "metadata": {},
   "outputs": [
    {
     "data": {
      "text/plain": [
       "5126.013698630137"
      ]
     },
     "execution_count": 26,
     "metadata": {},
     "output_type": "execute_result"
    }
   ],
   "source": [
    "np.mean(retail.quantity)"
   ]
  },
  {
   "cell_type": "code",
   "execution_count": 27,
   "metadata": {},
   "outputs": [],
   "source": [
    "retail.quantity.fillna(np.mean(retail.quantity),inplace=True)"
   ]
  },
  {
   "cell_type": "code",
   "execution_count": 28,
   "metadata": {},
   "outputs": [
    {
     "data": {
      "text/plain": [
       "0"
      ]
     },
     "execution_count": 28,
     "metadata": {},
     "output_type": "execute_result"
    }
   ],
   "source": [
    "retail.quantity.isnull().sum()"
   ]
  },
  {
   "cell_type": "code",
   "execution_count": 31,
   "metadata": {},
   "outputs": [
    {
     "data": {
      "text/plain": [
       "27"
      ]
     },
     "execution_count": 31,
     "metadata": {},
     "output_type": "execute_result"
    }
   ],
   "source": [
    "len(retail[retail.quantity == 5126.013698630137])"
   ]
  },
  {
   "cell_type": "code",
   "execution_count": 33,
   "metadata": {},
   "outputs": [
    {
     "data": {
      "text/html": [
       "<div>\n",
       "<style scoped>\n",
       "    .dataframe tbody tr th:only-of-type {\n",
       "        vertical-align: middle;\n",
       "    }\n",
       "\n",
       "    .dataframe tbody tr th {\n",
       "        vertical-align: top;\n",
       "    }\n",
       "\n",
       "    .dataframe thead th {\n",
       "        text-align: right;\n",
       "    }\n",
       "</style>\n",
       "<table border=\"1\" class=\"dataframe\">\n",
       "  <thead>\n",
       "    <tr style=\"text-align: right;\">\n",
       "      <th></th>\n",
       "      <th>Product Name</th>\n",
       "      <th>Category</th>\n",
       "      <th>storeManager</th>\n",
       "      <th>quantity</th>\n",
       "      <th>Price</th>\n",
       "      <th>PercentageSold</th>\n",
       "    </tr>\n",
       "  </thead>\n",
       "  <tbody>\n",
       "    <tr>\n",
       "      <th>3</th>\n",
       "      <td>R380</td>\n",
       "      <td>Telephones and Communication</td>\n",
       "      <td>Clay Rozendal</td>\n",
       "      <td>5126.013699</td>\n",
       "      <td>3.99</td>\n",
       "      <td>NaN</td>\n",
       "    </tr>\n",
       "    <tr>\n",
       "      <th>6</th>\n",
       "      <td>Angle-D Binders with Locking Rings, Label Holders</td>\n",
       "      <td>NaN</td>\n",
       "      <td>Carl Jackson</td>\n",
       "      <td>5126.013699</td>\n",
       "      <td>NaN</td>\n",
       "      <td>NaN</td>\n",
       "    </tr>\n",
       "    <tr>\n",
       "      <th>9</th>\n",
       "      <td>Xerox 198</td>\n",
       "      <td>Paper</td>\n",
       "      <td>Dorothy Badders</td>\n",
       "      <td>5126.013699</td>\n",
       "      <td>8.33</td>\n",
       "      <td>0.38</td>\n",
       "    </tr>\n",
       "    <tr>\n",
       "      <th>15</th>\n",
       "      <td>Ultra Commercial Grade Dual Valve Door Closer</td>\n",
       "      <td>Office Furnishings</td>\n",
       "      <td>Neola Schneider</td>\n",
       "      <td>5126.013699</td>\n",
       "      <td>3.04</td>\n",
       "      <td>0.53</td>\n",
       "    </tr>\n",
       "    <tr>\n",
       "      <th>19</th>\n",
       "      <td>NaN</td>\n",
       "      <td>NaN</td>\n",
       "      <td>NaN</td>\n",
       "      <td>5126.013699</td>\n",
       "      <td>NaN</td>\n",
       "      <td>NaN</td>\n",
       "    </tr>\n",
       "    <tr>\n",
       "      <th>23</th>\n",
       "      <td>GBC Pre-Punched Binding Paper, Plastic, White,...</td>\n",
       "      <td>Binders and Binder Accessories</td>\n",
       "      <td>Carl Ludwig</td>\n",
       "      <td>5126.013699</td>\n",
       "      <td>13.18</td>\n",
       "      <td>0.37</td>\n",
       "    </tr>\n",
       "    <tr>\n",
       "      <th>27</th>\n",
       "      <td>Canon PC940 Copier</td>\n",
       "      <td>Copiers and Fax</td>\n",
       "      <td>Carl Ludwig</td>\n",
       "      <td>5126.013699</td>\n",
       "      <td>49.00</td>\n",
       "      <td>0.38</td>\n",
       "    </tr>\n",
       "    <tr>\n",
       "      <th>30</th>\n",
       "      <td>NaN</td>\n",
       "      <td>NaN</td>\n",
       "      <td>Don Miller</td>\n",
       "      <td>5126.013699</td>\n",
       "      <td>4.38</td>\n",
       "      <td>0.75</td>\n",
       "    </tr>\n",
       "    <tr>\n",
       "      <th>35</th>\n",
       "      <td>Bevis Steel Folding Chairs</td>\n",
       "      <td>Chairs &amp; Chairmats</td>\n",
       "      <td>Julia West</td>\n",
       "      <td>5126.013699</td>\n",
       "      <td>74.35</td>\n",
       "      <td>0.57</td>\n",
       "    </tr>\n",
       "    <tr>\n",
       "      <th>36</th>\n",
       "      <td>Avery Binder Labels</td>\n",
       "      <td>Binders and Binder Accessories</td>\n",
       "      <td>Eugene Barchas</td>\n",
       "      <td>5126.013699</td>\n",
       "      <td>7.01</td>\n",
       "      <td>0.37</td>\n",
       "    </tr>\n",
       "    <tr>\n",
       "      <th>37</th>\n",
       "      <td>Hon Every-Day® Chair Series Swivel Task Chairs</td>\n",
       "      <td>NaN</td>\n",
       "      <td>Eugene Barchas</td>\n",
       "      <td>5126.013699</td>\n",
       "      <td>30.00</td>\n",
       "      <td>0.64</td>\n",
       "    </tr>\n",
       "    <tr>\n",
       "      <th>38</th>\n",
       "      <td>IBM Multi-Purpose Copy Paper, 8 1/2 x 11\", Case</td>\n",
       "      <td>Paper</td>\n",
       "      <td>Eugene Barchas</td>\n",
       "      <td>5126.013699</td>\n",
       "      <td>5.76</td>\n",
       "      <td>0.40</td>\n",
       "    </tr>\n",
       "    <tr>\n",
       "      <th>42</th>\n",
       "      <td>6160</td>\n",
       "      <td>Telephones and Communication</td>\n",
       "      <td>Dorothy Wardle</td>\n",
       "      <td>5126.013699</td>\n",
       "      <td>2.50</td>\n",
       "      <td>0.57</td>\n",
       "    </tr>\n",
       "    <tr>\n",
       "      <th>46</th>\n",
       "      <td>Avery 510</td>\n",
       "      <td>Labels</td>\n",
       "      <td>Annie Cyprus</td>\n",
       "      <td>5126.013699</td>\n",
       "      <td>0.50</td>\n",
       "      <td>0.37</td>\n",
       "    </tr>\n",
       "    <tr>\n",
       "      <th>51</th>\n",
       "      <td>Unpadded Memo Slips</td>\n",
       "      <td>Paper</td>\n",
       "      <td>Don Jones</td>\n",
       "      <td>5126.013699</td>\n",
       "      <td>2.97</td>\n",
       "      <td>0.35</td>\n",
       "    </tr>\n",
       "    <tr>\n",
       "      <th>52</th>\n",
       "      <td>Adams Telephone Message Book W/Dividers/Space ...</td>\n",
       "      <td>Paper</td>\n",
       "      <td>Beth Thompson</td>\n",
       "      <td>5126.013699</td>\n",
       "      <td>3.04</td>\n",
       "      <td>0.36</td>\n",
       "    </tr>\n",
       "    <tr>\n",
       "      <th>55</th>\n",
       "      <td>NaN</td>\n",
       "      <td>NaN</td>\n",
       "      <td>NaN</td>\n",
       "      <td>5126.013699</td>\n",
       "      <td>NaN</td>\n",
       "      <td>NaN</td>\n",
       "    </tr>\n",
       "    <tr>\n",
       "      <th>60</th>\n",
       "      <td>High Speed Automatic Electric Letter Opener</td>\n",
       "      <td>Scissors, Rulers and Trimmers</td>\n",
       "      <td>Barry Weirich</td>\n",
       "      <td>5126.013699</td>\n",
       "      <td>24.49</td>\n",
       "      <td>0.81</td>\n",
       "    </tr>\n",
       "    <tr>\n",
       "      <th>63</th>\n",
       "      <td>Boston Electric Pencil Sharpener, Model 1818, ...</td>\n",
       "      <td>Pens &amp; Art Supplies</td>\n",
       "      <td>Adrian Hane</td>\n",
       "      <td>5126.013699</td>\n",
       "      <td>8.99</td>\n",
       "      <td>0.57</td>\n",
       "    </tr>\n",
       "    <tr>\n",
       "      <th>64</th>\n",
       "      <td>Hammermill CopyPlus Copy Paper (20Lb. and 84 B...</td>\n",
       "      <td>Paper</td>\n",
       "      <td>Skye Norling</td>\n",
       "      <td>5126.013699</td>\n",
       "      <td>NaN</td>\n",
       "      <td>0.36</td>\n",
       "    </tr>\n",
       "    <tr>\n",
       "      <th>66</th>\n",
       "      <td>Crate-A-Files</td>\n",
       "      <td>Storage &amp; Organization</td>\n",
       "      <td>Andrew Gjertsen</td>\n",
       "      <td>5126.013699</td>\n",
       "      <td>7.46</td>\n",
       "      <td>0.59</td>\n",
       "    </tr>\n",
       "    <tr>\n",
       "      <th>73</th>\n",
       "      <td>3M Office Air Cleaner</td>\n",
       "      <td>Appliances</td>\n",
       "      <td>Beth Paige</td>\n",
       "      <td>5126.013699</td>\n",
       "      <td>5.37</td>\n",
       "      <td>0.50</td>\n",
       "    </tr>\n",
       "    <tr>\n",
       "      <th>75</th>\n",
       "      <td>Xerox 1936</td>\n",
       "      <td>Paper</td>\n",
       "      <td>Nicole Hansen</td>\n",
       "      <td>5126.013699</td>\n",
       "      <td>5.97</td>\n",
       "      <td>0.38</td>\n",
       "    </tr>\n",
       "    <tr>\n",
       "      <th>78</th>\n",
       "      <td>Staples® General Use 3-Ring Binders</td>\n",
       "      <td>Binders and Binder Accessories</td>\n",
       "      <td>Beth Paige</td>\n",
       "      <td>5126.013699</td>\n",
       "      <td>1.49</td>\n",
       "      <td>0.37</td>\n",
       "    </tr>\n",
       "    <tr>\n",
       "      <th>89</th>\n",
       "      <td>Bush Heritage Pine Collection 5-Shelf Bookcase...</td>\n",
       "      <td>Bookcases</td>\n",
       "      <td>Grant Carroll</td>\n",
       "      <td>5126.013699</td>\n",
       "      <td>53.48</td>\n",
       "      <td>0.65</td>\n",
       "    </tr>\n",
       "    <tr>\n",
       "      <th>97</th>\n",
       "      <td>Prismacolor Color Pencil Set</td>\n",
       "      <td>Pens &amp; Art Supplies</td>\n",
       "      <td>Jamie Kunitz</td>\n",
       "      <td>5126.013699</td>\n",
       "      <td>4.10</td>\n",
       "      <td>0.44</td>\n",
       "    </tr>\n",
       "    <tr>\n",
       "      <th>98</th>\n",
       "      <td>Xerox Blank Computer Paper</td>\n",
       "      <td>Paper</td>\n",
       "      <td>Anthony Johnson</td>\n",
       "      <td>5126.013699</td>\n",
       "      <td>5.77</td>\n",
       "      <td>0.38</td>\n",
       "    </tr>\n",
       "  </tbody>\n",
       "</table>\n",
       "</div>"
      ],
      "text/plain": [
       "                                         Product Name  \\\n",
       "3                                                R380   \n",
       "6   Angle-D Binders with Locking Rings, Label Holders   \n",
       "9                                           Xerox 198   \n",
       "15      Ultra Commercial Grade Dual Valve Door Closer   \n",
       "19                                                NaN   \n",
       "23  GBC Pre-Punched Binding Paper, Plastic, White,...   \n",
       "27                                 Canon PC940 Copier   \n",
       "30                                                NaN   \n",
       "35                         Bevis Steel Folding Chairs   \n",
       "36                                Avery Binder Labels   \n",
       "37     Hon Every-Day® Chair Series Swivel Task Chairs   \n",
       "38    IBM Multi-Purpose Copy Paper, 8 1/2 x 11\", Case   \n",
       "42                                               6160   \n",
       "46                                          Avery 510   \n",
       "51                                Unpadded Memo Slips   \n",
       "52  Adams Telephone Message Book W/Dividers/Space ...   \n",
       "55                                                NaN   \n",
       "60        High Speed Automatic Electric Letter Opener   \n",
       "63  Boston Electric Pencil Sharpener, Model 1818, ...   \n",
       "64  Hammermill CopyPlus Copy Paper (20Lb. and 84 B...   \n",
       "66                                     Crate-A-Files   \n",
       "73                              3M Office Air Cleaner   \n",
       "75                                         Xerox 1936   \n",
       "78                Staples® General Use 3-Ring Binders   \n",
       "89  Bush Heritage Pine Collection 5-Shelf Bookcase...   \n",
       "97                       Prismacolor Color Pencil Set   \n",
       "98                         Xerox Blank Computer Paper   \n",
       "\n",
       "                          Category     storeManager     quantity  Price  \\\n",
       "3     Telephones and Communication    Clay Rozendal  5126.013699   3.99   \n",
       "6                              NaN     Carl Jackson  5126.013699    NaN   \n",
       "9                            Paper  Dorothy Badders  5126.013699   8.33   \n",
       "15              Office Furnishings  Neola Schneider  5126.013699   3.04   \n",
       "19                             NaN              NaN  5126.013699    NaN   \n",
       "23  Binders and Binder Accessories      Carl Ludwig  5126.013699  13.18   \n",
       "27                 Copiers and Fax      Carl Ludwig  5126.013699  49.00   \n",
       "30                             NaN       Don Miller  5126.013699   4.38   \n",
       "35              Chairs & Chairmats       Julia West  5126.013699  74.35   \n",
       "36  Binders and Binder Accessories   Eugene Barchas  5126.013699   7.01   \n",
       "37                             NaN   Eugene Barchas  5126.013699  30.00   \n",
       "38                           Paper   Eugene Barchas  5126.013699   5.76   \n",
       "42    Telephones and Communication   Dorothy Wardle  5126.013699   2.50   \n",
       "46                          Labels     Annie Cyprus  5126.013699   0.50   \n",
       "51                           Paper        Don Jones  5126.013699   2.97   \n",
       "52                           Paper    Beth Thompson  5126.013699   3.04   \n",
       "55                             NaN              NaN  5126.013699    NaN   \n",
       "60   Scissors, Rulers and Trimmers    Barry Weirich  5126.013699  24.49   \n",
       "63             Pens & Art Supplies      Adrian Hane  5126.013699   8.99   \n",
       "64                           Paper     Skye Norling  5126.013699    NaN   \n",
       "66          Storage & Organization  Andrew Gjertsen  5126.013699   7.46   \n",
       "73                      Appliances       Beth Paige  5126.013699   5.37   \n",
       "75                           Paper    Nicole Hansen  5126.013699   5.97   \n",
       "78  Binders and Binder Accessories       Beth Paige  5126.013699   1.49   \n",
       "89                       Bookcases    Grant Carroll  5126.013699  53.48   \n",
       "97             Pens & Art Supplies     Jamie Kunitz  5126.013699   4.10   \n",
       "98                           Paper  Anthony Johnson  5126.013699   5.77   \n",
       "\n",
       "    PercentageSold  \n",
       "3              NaN  \n",
       "6              NaN  \n",
       "9             0.38  \n",
       "15            0.53  \n",
       "19             NaN  \n",
       "23            0.37  \n",
       "27            0.38  \n",
       "30            0.75  \n",
       "35            0.57  \n",
       "36            0.37  \n",
       "37            0.64  \n",
       "38            0.40  \n",
       "42            0.57  \n",
       "46            0.37  \n",
       "51            0.35  \n",
       "52            0.36  \n",
       "55             NaN  \n",
       "60            0.81  \n",
       "63            0.57  \n",
       "64            0.36  \n",
       "66            0.59  \n",
       "73            0.50  \n",
       "75            0.38  \n",
       "78            0.37  \n",
       "89            0.65  \n",
       "97            0.44  \n",
       "98            0.38  "
      ]
     },
     "execution_count": 33,
     "metadata": {},
     "output_type": "execute_result"
    }
   ],
   "source": [
    "retail[retail.quantity == 5126.013698630137]"
   ]
  },
  {
   "cell_type": "code",
   "execution_count": 41,
   "metadata": {},
   "outputs": [
    {
     "data": {
      "text/plain": [
       "'Grant Carroll'"
      ]
     },
     "execution_count": 41,
     "metadata": {},
     "output_type": "execute_result"
    }
   ],
   "source": [
    "retail['storeManager'].mode()[0]"
   ]
  },
  {
   "cell_type": "code",
   "execution_count": 42,
   "metadata": {},
   "outputs": [],
   "source": [
    "retail.storeManager.fillna(retail['storeManager'].mode()[0],inplace=True)"
   ]
  },
  {
   "cell_type": "code",
   "execution_count": 43,
   "metadata": {},
   "outputs": [
    {
     "data": {
      "text/plain": [
       "Product Name       3\n",
       "Category           9\n",
       "storeManager       0\n",
       "quantity           0\n",
       "Price              8\n",
       "PercentageSold    15\n",
       "dtype: int64"
      ]
     },
     "execution_count": 43,
     "metadata": {},
     "output_type": "execute_result"
    }
   ],
   "source": [
    "# 1,2,3,4,2,2,2,5,\n",
    "retail.isnull().sum()"
   ]
  },
  {
   "cell_type": "code",
   "execution_count": 44,
   "metadata": {},
   "outputs": [
    {
     "data": {
      "text/plain": [
       "4     5.94\n",
       "12     NaN\n",
       "Name: Price, dtype: float64"
      ]
     },
     "execution_count": 44,
     "metadata": {},
     "output_type": "execute_result"
    }
   ],
   "source": [
    "retail.Price[retail['Product Name'] == 'Holmes HEPA Air Purifier']"
   ]
  },
  {
   "cell_type": "code",
   "execution_count": null,
   "metadata": {},
   "outputs": [],
   "source": [
    "retail.Price.fillna([np.mean(retail['Price'])"
   ]
  },
  {
   "cell_type": "code",
   "execution_count": 66,
   "metadata": {},
   "outputs": [
    {
     "data": {
      "text/plain": [
       "4     5.94\n",
       "12     NaN\n",
       "Name: Price, dtype: float64"
      ]
     },
     "execution_count": 66,
     "metadata": {},
     "output_type": "execute_result"
    }
   ],
   "source": [
    "retail.Price[retail['Product Name'] == 'Holmes HEPA Air Purifier']"
   ]
  },
  {
   "cell_type": "code",
   "execution_count": 69,
   "metadata": {
    "scrolled": true
   },
   "outputs": [
    {
     "data": {
      "text/plain": [
       "14.164782608695656"
      ]
     },
     "execution_count": 69,
     "metadata": {},
     "output_type": "execute_result"
    }
   ],
   "source": [
    "np.mean(retail['Price'])"
   ]
  },
  {
   "cell_type": "code",
   "execution_count": 70,
   "metadata": {},
   "outputs": [
    {
     "data": {
      "text/plain": [
       "5.94"
      ]
     },
     "execution_count": 70,
     "metadata": {},
     "output_type": "execute_result"
    }
   ],
   "source": [
    "np.mean(retail.Price[retail['Product Name'] == 'Holmes HEPA Air Purifier'])"
   ]
  },
  {
   "cell_type": "code",
   "execution_count": 72,
   "metadata": {
    "collapsed": true
   },
   "outputs": [
    {
     "name": "stderr",
     "output_type": "stream",
     "text": [
      "<ipython-input-72-d79d381b6bb4>:1: SettingWithCopyWarning: \n",
      "A value is trying to be set on a copy of a slice from a DataFrame\n",
      "\n",
      "See the caveats in the documentation: https://pandas.pydata.org/pandas-docs/stable/user_guide/indexing.html#returning-a-view-versus-a-copy\n",
      "  retail.Price[retail['Product Name'] == 'Holmes HEPA Air Purifier'] = np.mean(retail.Price[retail['Product Name'] == 'Holmes HEPA Air Purifier'])\n"
     ]
    }
   ],
   "source": [
    "retail.Price[retail['Product Name'] == 'Holmes HEPA Air Purifier'] = np.mean(retail.Price[retail['Product Name'] == 'Holmes HEPA Air Purifier'])"
   ]
  },
  {
   "cell_type": "code",
   "execution_count": 73,
   "metadata": {},
   "outputs": [
    {
     "data": {
      "text/plain": [
       "4     5.94\n",
       "12    5.94\n",
       "Name: Price, dtype: float64"
      ]
     },
     "execution_count": 73,
     "metadata": {},
     "output_type": "execute_result"
    }
   ],
   "source": [
    "retail.Price[retail['Product Name'] == 'Holmes HEPA Air Purifier']"
   ]
  },
  {
   "cell_type": "code",
   "execution_count": 74,
   "metadata": {},
   "outputs": [
    {
     "data": {
      "text/plain": [
       "70   NaN\n",
       "Name: Price, dtype: float64"
      ]
     },
     "execution_count": 74,
     "metadata": {},
     "output_type": "execute_result"
    }
   ],
   "source": [
    "retail.Price[retail['Product Name'] == '12-1/2 Diameter Round Wall Clock']"
   ]
  },
  {
   "cell_type": "code",
   "execution_count": 67,
   "metadata": {},
   "outputs": [],
   "source": [
    "retail.Price[retail['Product Name'] == 'Holmes HEPA Air Purifier'].fillna(np.mean(retail.Price[retail['Product Name'] == 'Holmes HEPA Air Purifier']),inplace=True)"
   ]
  },
  {
   "cell_type": "code",
   "execution_count": 57,
   "metadata": {},
   "outputs": [
    {
     "data": {
      "text/plain": [
       "4     5.94\n",
       "12    5.94\n",
       "Name: Price, dtype: float64"
      ]
     },
     "execution_count": 57,
     "metadata": {},
     "output_type": "execute_result"
    }
   ],
   "source": [
    "retail.Price['Product Name'] == 'Holmes HEPA Air Purifier'][retail['Product Name'['Product Name'] == 'Holmes HEPA Air Purifier']] == 'Holmes HEPA Air Purifier']"
   ]
  },
  {
   "cell_type": "code",
   "execution_count": 55,
   "metadata": {},
   "outputs": [
    {
     "data": {
      "text/plain": [
       "5.94"
      ]
     },
     "execution_count": 55,
     "metadata": {},
     "output_type": "execute_result"
    }
   ],
   "source": [
    "np.mean(retail.Price[retail['Product Name'] == 'Holmes HEPA Air Purifier'])\n"
   ]
  },
  {
   "cell_type": "code",
   "execution_count": 58,
   "metadata": {},
   "outputs": [
    {
     "data": {
      "text/plain": [
       "Product Name\n",
       "#10 White Business Envelopes,4 1/8 x 9 1/2                1.39\n",
       "#10-4 1/8\" x 9 1/2\" Premium Diagonal Seam Envelopes       1.39\n",
       "1.7 Cubic Foot Compact \"Cube\" Office Refrigerators       68.02\n",
       "12-1/2 Diameter Round Wall Clock                          5.94\n",
       "3M Office Air Cleaner                                     5.37\n",
       "                                                         ...  \n",
       "Xerox 213                                                 7.86\n",
       "Xerox 214                                                 7.03\n",
       "Xerox 217                                                 8.19\n",
       "Xerox Blank Computer Paper                                5.77\n",
       "XtraLife® ClearVue Slant-D® Ring Binders by Cardinal     4.71\n",
       "Name: Price, Length: 92, dtype: float64"
      ]
     },
     "execution_count": 58,
     "metadata": {},
     "output_type": "execute_result"
    }
   ],
   "source": [
    "retail[retail.Price.notnull()].groupby([\"Product Name\"])['Price'].mean()"
   ]
  },
  {
   "cell_type": "code",
   "execution_count": null,
   "metadata": {},
   "outputs": [],
   "source": [
    "retail.Price.fillna(retail[retail.Price.notnull()].groupby([\"Product Name\"])['Price'].mean(),inplace=True)"
   ]
  },
  {
   "cell_type": "code",
   "execution_count": 75,
   "metadata": {},
   "outputs": [],
   "source": [
    "retail.Price.fillna(retail.groupby([\"Product Name\"])['Price'].apply(lambda x: x.fillna(x.mean())),inplace=True)"
   ]
  },
  {
   "cell_type": "code",
   "execution_count": 76,
   "metadata": {},
   "outputs": [
    {
     "data": {
      "text/plain": [
       "Product Name       3\n",
       "Category           9\n",
       "storeManager       2\n",
       "quantity          27\n",
       "Price              6\n",
       "PercentageSold    15\n",
       "dtype: int64"
      ]
     },
     "execution_count": 76,
     "metadata": {},
     "output_type": "execute_result"
    }
   ],
   "source": [
    "# 1,2,3,4,2,2,2,5,\n",
    "retail.isnull().sum()"
   ]
  },
  {
   "cell_type": "code",
   "execution_count": 77,
   "metadata": {},
   "outputs": [
    {
     "data": {
      "text/html": [
       "<div>\n",
       "<style scoped>\n",
       "    .dataframe tbody tr th:only-of-type {\n",
       "        vertical-align: middle;\n",
       "    }\n",
       "\n",
       "    .dataframe tbody tr th {\n",
       "        vertical-align: top;\n",
       "    }\n",
       "\n",
       "    .dataframe thead th {\n",
       "        text-align: right;\n",
       "    }\n",
       "</style>\n",
       "<table border=\"1\" class=\"dataframe\">\n",
       "  <thead>\n",
       "    <tr style=\"text-align: right;\">\n",
       "      <th></th>\n",
       "      <th>Category</th>\n",
       "      <th>Product Name</th>\n",
       "      <th>quantity</th>\n",
       "      <th>Price</th>\n",
       "    </tr>\n",
       "  </thead>\n",
       "  <tbody>\n",
       "    <tr>\n",
       "      <th>19</th>\n",
       "      <td>NaN</td>\n",
       "      <td>NaN</td>\n",
       "      <td>NaN</td>\n",
       "      <td>NaN</td>\n",
       "    </tr>\n",
       "    <tr>\n",
       "      <th>55</th>\n",
       "      <td>NaN</td>\n",
       "      <td>NaN</td>\n",
       "      <td>NaN</td>\n",
       "      <td>NaN</td>\n",
       "    </tr>\n",
       "    <tr>\n",
       "      <th>59</th>\n",
       "      <td>Paper</td>\n",
       "      <td>Personal Creations Ink Jet Cards and Labels</td>\n",
       "      <td>6016.0</td>\n",
       "      <td>NaN</td>\n",
       "    </tr>\n",
       "    <tr>\n",
       "      <th>64</th>\n",
       "      <td>Paper</td>\n",
       "      <td>Hammermill CopyPlus Copy Paper (20Lb. and 84 B...</td>\n",
       "      <td>NaN</td>\n",
       "      <td>NaN</td>\n",
       "    </tr>\n",
       "    <tr>\n",
       "      <th>70</th>\n",
       "      <td>Office Furnishings</td>\n",
       "      <td>12-1/2 Diameter Round Wall Clock</td>\n",
       "      <td>6982.0</td>\n",
       "      <td>NaN</td>\n",
       "    </tr>\n",
       "    <tr>\n",
       "      <th>79</th>\n",
       "      <td>Paper</td>\n",
       "      <td>Xerox 1904</td>\n",
       "      <td>8995.0</td>\n",
       "      <td>NaN</td>\n",
       "    </tr>\n",
       "  </tbody>\n",
       "</table>\n",
       "</div>"
      ],
      "text/plain": [
       "              Category                                       Product Name  \\\n",
       "19                 NaN                                                NaN   \n",
       "55                 NaN                                                NaN   \n",
       "59               Paper       Personal Creations Ink Jet Cards and Labels   \n",
       "64               Paper  Hammermill CopyPlus Copy Paper (20Lb. and 84 B...   \n",
       "70  Office Furnishings                   12-1/2 Diameter Round Wall Clock   \n",
       "79               Paper                                         Xerox 1904   \n",
       "\n",
       "    quantity  Price  \n",
       "19       NaN    NaN  \n",
       "55       NaN    NaN  \n",
       "59    6016.0    NaN  \n",
       "64       NaN    NaN  \n",
       "70    6982.0    NaN  \n",
       "79    8995.0    NaN  "
      ]
     },
     "execution_count": 77,
     "metadata": {},
     "output_type": "execute_result"
    }
   ],
   "source": [
    "retail.loc[retail.Price.isnull()] [['Category','Product Name','quantity','Price']]"
   ]
  },
  {
   "cell_type": "code",
   "execution_count": null,
   "metadata": {},
   "outputs": [],
   "source": []
  }
 ],
 "metadata": {
  "kernelspec": {
   "display_name": "Python 3",
   "language": "python",
   "name": "python3"
  },
  "language_info": {
   "codemirror_mode": {
    "name": "ipython",
    "version": 3
   },
   "file_extension": ".py",
   "mimetype": "text/x-python",
   "name": "python",
   "nbconvert_exporter": "python",
   "pygments_lexer": "ipython3",
   "version": "3.8.5"
  }
 },
 "nbformat": 4,
 "nbformat_minor": 4
}
